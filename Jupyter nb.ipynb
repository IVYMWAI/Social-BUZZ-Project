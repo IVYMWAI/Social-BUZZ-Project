{
 "cells": [
  {
   "cell_type": "code",
   "execution_count": 3,
   "metadata": {},
   "outputs": [],
   "source": [
    "#Importing necessary libraries\n",
    "import pandas as pd\n",
    "import numpy as np"
   ]
  },
  {
   "cell_type": "code",
   "execution_count": 4,
   "metadata": {},
   "outputs": [],
   "source": [
    "#Loading the datasets for data cleaning\n",
    "data=pd.read_csv(\"C:\\\\Users\\\\USER\\\\OneDrive\\\\Documents\\\\Social Buzz Project\\\\Content.csv\")"
   ]
  },
  {
   "cell_type": "code",
   "execution_count": 5,
   "metadata": {},
   "outputs": [
    {
     "data": {
      "text/html": [
       "<div>\n",
       "<style scoped>\n",
       "    .dataframe tbody tr th:only-of-type {\n",
       "        vertical-align: middle;\n",
       "    }\n",
       "\n",
       "    .dataframe tbody tr th {\n",
       "        vertical-align: top;\n",
       "    }\n",
       "\n",
       "    .dataframe thead th {\n",
       "        text-align: right;\n",
       "    }\n",
       "</style>\n",
       "<table border=\"1\" class=\"dataframe\">\n",
       "  <thead>\n",
       "    <tr style=\"text-align: right;\">\n",
       "      <th></th>\n",
       "      <th>Unnamed: 0</th>\n",
       "      <th>Content ID</th>\n",
       "      <th>User ID</th>\n",
       "      <th>Type</th>\n",
       "      <th>Category</th>\n",
       "      <th>URL</th>\n",
       "    </tr>\n",
       "  </thead>\n",
       "  <tbody>\n",
       "    <tr>\n",
       "      <th>0</th>\n",
       "      <td>0</td>\n",
       "      <td>97522e57-d9ab-4bd6-97bf-c24d952602d2</td>\n",
       "      <td>8d3cd87d-8a31-4935-9a4f-b319bfe05f31</td>\n",
       "      <td>photo</td>\n",
       "      <td>Studying</td>\n",
       "      <td>https://socialbuzz.cdn.com/content/storage/975...</td>\n",
       "    </tr>\n",
       "    <tr>\n",
       "      <th>1</th>\n",
       "      <td>1</td>\n",
       "      <td>9f737e0a-3cdd-4d29-9d24-753f4e3be810</td>\n",
       "      <td>beb1f34e-7870-46d6-9fc7-2e12eb83ce43</td>\n",
       "      <td>photo</td>\n",
       "      <td>healthy eating</td>\n",
       "      <td>https://socialbuzz.cdn.com/content/storage/9f7...</td>\n",
       "    </tr>\n",
       "    <tr>\n",
       "      <th>2</th>\n",
       "      <td>2</td>\n",
       "      <td>230c4e4d-70c3-461d-b42c-ec09396efb3f</td>\n",
       "      <td>a5c65404-5894-4b87-82f2-d787cbee86b4</td>\n",
       "      <td>photo</td>\n",
       "      <td>healthy eating</td>\n",
       "      <td>https://socialbuzz.cdn.com/content/storage/230...</td>\n",
       "    </tr>\n",
       "    <tr>\n",
       "      <th>3</th>\n",
       "      <td>3</td>\n",
       "      <td>356fff80-da4d-4785-9f43-bc1261031dc6</td>\n",
       "      <td>9fb4ce88-fac1-406c-8544-1a899cee7aaf</td>\n",
       "      <td>photo</td>\n",
       "      <td>technology</td>\n",
       "      <td>https://socialbuzz.cdn.com/content/storage/356...</td>\n",
       "    </tr>\n",
       "    <tr>\n",
       "      <th>4</th>\n",
       "      <td>4</td>\n",
       "      <td>01ab84dd-6364-4236-abbb-3f237db77180</td>\n",
       "      <td>e206e31b-5f85-4964-b6ea-d7ee5324def1</td>\n",
       "      <td>video</td>\n",
       "      <td>food</td>\n",
       "      <td>https://socialbuzz.cdn.com/content/storage/01a...</td>\n",
       "    </tr>\n",
       "  </tbody>\n",
       "</table>\n",
       "</div>"
      ],
      "text/plain": [
       "   Unnamed: 0                            Content ID  \\\n",
       "0           0  97522e57-d9ab-4bd6-97bf-c24d952602d2   \n",
       "1           1  9f737e0a-3cdd-4d29-9d24-753f4e3be810   \n",
       "2           2  230c4e4d-70c3-461d-b42c-ec09396efb3f   \n",
       "3           3  356fff80-da4d-4785-9f43-bc1261031dc6   \n",
       "4           4  01ab84dd-6364-4236-abbb-3f237db77180   \n",
       "\n",
       "                                User ID   Type        Category  \\\n",
       "0  8d3cd87d-8a31-4935-9a4f-b319bfe05f31  photo        Studying   \n",
       "1  beb1f34e-7870-46d6-9fc7-2e12eb83ce43  photo  healthy eating   \n",
       "2  a5c65404-5894-4b87-82f2-d787cbee86b4  photo  healthy eating   \n",
       "3  9fb4ce88-fac1-406c-8544-1a899cee7aaf  photo      technology   \n",
       "4  e206e31b-5f85-4964-b6ea-d7ee5324def1  video            food   \n",
       "\n",
       "                                                 URL  \n",
       "0  https://socialbuzz.cdn.com/content/storage/975...  \n",
       "1  https://socialbuzz.cdn.com/content/storage/9f7...  \n",
       "2  https://socialbuzz.cdn.com/content/storage/230...  \n",
       "3  https://socialbuzz.cdn.com/content/storage/356...  \n",
       "4  https://socialbuzz.cdn.com/content/storage/01a...  "
      ]
     },
     "execution_count": 5,
     "metadata": {},
     "output_type": "execute_result"
    }
   ],
   "source": [
    "data.head()"
   ]
  },
  {
   "cell_type": "code",
   "execution_count": 6,
   "metadata": {},
   "outputs": [
    {
     "name": "stdout",
     "output_type": "stream",
     "text": [
      "1000\n",
      "6\n"
     ]
    }
   ],
   "source": [
    "#Checking for number of columns and rows\n",
    "no_of_rows=data.shape[0]\n",
    "no_of_columns=data.shape[1]\n",
    "print(no_of_rows)\n",
    "print(no_of_columns)"
   ]
  },
  {
   "cell_type": "markdown",
   "metadata": {},
   "source": [
    "The content dataset has 1000 rows and 6 columns."
   ]
  },
  {
   "cell_type": "code",
   "execution_count": 8,
   "metadata": {},
   "outputs": [
    {
     "data": {
      "text/plain": [
       "Unnamed: 0      0\n",
       "Content ID      0\n",
       "User ID         0\n",
       "Type            0\n",
       "Category        0\n",
       "URL           199\n",
       "dtype: int64"
      ]
     },
     "execution_count": 8,
     "metadata": {},
     "output_type": "execute_result"
    }
   ],
   "source": [
    "#DATA CLEANING \n",
    "#HANDLING MISSING VALUES\n",
    "#general view of how many missing values there is per column \n",
    "missing_values_count=data.isnull().sum()\n",
    "missing_values_count[0:6]"
   ]
  },
  {
   "cell_type": "markdown",
   "metadata": {},
   "source": [
    "The url column has 199 missing values\n",
    "We are going to drop the missing values in the URL column."
   ]
  },
  {
   "cell_type": "code",
   "execution_count": 9,
   "metadata": {},
   "outputs": [],
   "source": [
    "#dropping the entire URL column using the inplace=true function\n",
    "data.dropna(subset=[\"URL\"],inplace=True)"
   ]
  },
  {
   "cell_type": "code",
   "execution_count": 11,
   "metadata": {},
   "outputs": [
    {
     "name": "stdout",
     "output_type": "stream",
     "text": [
      "Index(['Unnamed:_0', 'Content_ID', 'User_ID', 'Type', 'Category', 'URL'], dtype='object')\n"
     ]
    }
   ],
   "source": [
    "#Changing the dataheads to snake_case\n",
    "data.columns=data.columns.str.replace(\" \",\"_\")\n",
    "print(data.columns)"
   ]
  },
  {
   "cell_type": "code",
   "execution_count": 26,
   "metadata": {},
   "outputs": [],
   "source": [
    "#identifying the rows that have incorrect data using boolean indexing\n",
    "column_name = \"Category\"\n",
    "# Use the str.replace() method to replace values case-insensitively\n",
    "data[column_name] = data[column_name].str.replace(\"Studying\", \"studying\", case=False)\n",
    "data[column_name] = data[column_name].str.replace(\"Education\", \"education\", case=False)\n",
    "data[column_name] = data[column_name].str.replace(\"Healthy Eating\", \"healthy eating\", case=False)\n",
    "data[column_name] = data[column_name].str.replace(\"Science\", \"science\", case=False)\n",
    "data[column_name] = data[column_name].str.replace(\"Animals\", \"animals\", case=False)\n",
    "data[column_name] = data[column_name].str.replace(\"Veganism\", \"veganism\", case=False)\n",
    "data[column_name] = data[column_name].str.replace(\"Fitness\", \"fitness\", case=False)\n",
    "data[column_name] = data[column_name].str.replace(\"Technology\", \"technology\", case=False)\n",
    "data[column_name] = data[column_name].str.replace(\"Soccer\", \"soccer\", case=False)\n",
    "data[column_name] = data[column_name].str.replace(\"Culture\", \"culture\", case=False)\n",
    "data[column_name] = data[column_name].str.replace(\"Travel\", \"travel\", case=False)"
   ]
  },
  {
   "cell_type": "code",
   "execution_count": 27,
   "metadata": {},
   "outputs": [],
   "source": [
    "#Downloading the cleaned dataset\n",
    "excel_file_path=r\"C:\\\\Users\\\\USER\\\\Downloads\\\\Content.xlsx\"\n",
    "data.to_excel(excel_file_path, index=False)"
   ]
  },
  {
   "cell_type": "code",
   "execution_count": 28,
   "metadata": {},
   "outputs": [],
   "source": [
    "#CLEANING DATASET 2\n",
    "data=pd.read_csv(\"C:\\\\Users\\\\USER\\\\OneDrive\\\\Documents\\\\Accenture Project\\\\Reactions.csv\")"
   ]
  },
  {
   "cell_type": "code",
   "execution_count": 29,
   "metadata": {},
   "outputs": [
    {
     "data": {
      "text/html": [
       "<div>\n",
       "<style scoped>\n",
       "    .dataframe tbody tr th:only-of-type {\n",
       "        vertical-align: middle;\n",
       "    }\n",
       "\n",
       "    .dataframe tbody tr th {\n",
       "        vertical-align: top;\n",
       "    }\n",
       "\n",
       "    .dataframe thead th {\n",
       "        text-align: right;\n",
       "    }\n",
       "</style>\n",
       "<table border=\"1\" class=\"dataframe\">\n",
       "  <thead>\n",
       "    <tr style=\"text-align: right;\">\n",
       "      <th></th>\n",
       "      <th>Unnamed: 0</th>\n",
       "      <th>Content ID</th>\n",
       "      <th>User ID</th>\n",
       "      <th>Type</th>\n",
       "      <th>Datetime</th>\n",
       "    </tr>\n",
       "  </thead>\n",
       "  <tbody>\n",
       "    <tr>\n",
       "      <th>0</th>\n",
       "      <td>0</td>\n",
       "      <td>97522e57-d9ab-4bd6-97bf-c24d952602d2</td>\n",
       "      <td>NaN</td>\n",
       "      <td>NaN</td>\n",
       "      <td>22/04/2021 15:17</td>\n",
       "    </tr>\n",
       "    <tr>\n",
       "      <th>1</th>\n",
       "      <td>2</td>\n",
       "      <td>97522e57-d9ab-4bd6-97bf-c24d952602d2</td>\n",
       "      <td>92b87fa5-f271-43e0-af66-84fac21052e6</td>\n",
       "      <td>dislike</td>\n",
       "      <td>17/06/2021 12:22</td>\n",
       "    </tr>\n",
       "    <tr>\n",
       "      <th>2</th>\n",
       "      <td>3</td>\n",
       "      <td>97522e57-d9ab-4bd6-97bf-c24d952602d2</td>\n",
       "      <td>163daa38-8b77-48c9-9af6-37a6c1447ac2</td>\n",
       "      <td>scared</td>\n",
       "      <td>18/04/2021 05:13</td>\n",
       "    </tr>\n",
       "    <tr>\n",
       "      <th>3</th>\n",
       "      <td>4</td>\n",
       "      <td>97522e57-d9ab-4bd6-97bf-c24d952602d2</td>\n",
       "      <td>34e8add9-0206-47fd-a501-037b994650a2</td>\n",
       "      <td>disgust</td>\n",
       "      <td>06/01/2021 19:13</td>\n",
       "    </tr>\n",
       "    <tr>\n",
       "      <th>4</th>\n",
       "      <td>5</td>\n",
       "      <td>97522e57-d9ab-4bd6-97bf-c24d952602d2</td>\n",
       "      <td>9b6d35f9-5e15-4cd0-a8d7-b1f3340e02c4</td>\n",
       "      <td>interested</td>\n",
       "      <td>23/08/2020 12:25</td>\n",
       "    </tr>\n",
       "  </tbody>\n",
       "</table>\n",
       "</div>"
      ],
      "text/plain": [
       "   Unnamed: 0                            Content ID  \\\n",
       "0           0  97522e57-d9ab-4bd6-97bf-c24d952602d2   \n",
       "1           2  97522e57-d9ab-4bd6-97bf-c24d952602d2   \n",
       "2           3  97522e57-d9ab-4bd6-97bf-c24d952602d2   \n",
       "3           4  97522e57-d9ab-4bd6-97bf-c24d952602d2   \n",
       "4           5  97522e57-d9ab-4bd6-97bf-c24d952602d2   \n",
       "\n",
       "                                User ID        Type          Datetime  \n",
       "0                                   NaN         NaN  22/04/2021 15:17  \n",
       "1  92b87fa5-f271-43e0-af66-84fac21052e6     dislike  17/06/2021 12:22  \n",
       "2  163daa38-8b77-48c9-9af6-37a6c1447ac2      scared  18/04/2021 05:13  \n",
       "3  34e8add9-0206-47fd-a501-037b994650a2     disgust  06/01/2021 19:13  \n",
       "4  9b6d35f9-5e15-4cd0-a8d7-b1f3340e02c4  interested  23/08/2020 12:25  "
      ]
     },
     "execution_count": 29,
     "metadata": {},
     "output_type": "execute_result"
    }
   ],
   "source": [
    "data.head()"
   ]
  },
  {
   "cell_type": "markdown",
   "metadata": {},
   "source": [
    "This dataset has some missing values as shown in the 5 rows displayed above."
   ]
  },
  {
   "cell_type": "code",
   "execution_count": 30,
   "metadata": {},
   "outputs": [
    {
     "data": {
      "text/plain": [
       "Unnamed: 0     int64\n",
       "Content ID    object\n",
       "User ID       object\n",
       "Type          object\n",
       "Datetime      object\n",
       "dtype: object"
      ]
     },
     "execution_count": 30,
     "metadata": {},
     "output_type": "execute_result"
    }
   ],
   "source": [
    "#checking the datatypes in this dataset\n",
    "data.dtypes"
   ]
  },
  {
   "cell_type": "code",
   "execution_count": 31,
   "metadata": {},
   "outputs": [
    {
     "name": "stdout",
     "output_type": "stream",
     "text": [
      "25552\n",
      "5\n"
     ]
    }
   ],
   "source": [
    "#checking the number of columns and rows in this dataset\n",
    "no_of_rows=data.shape[0]\n",
    "no_of_columns=data.shape[1]\n",
    "print(no_of_rows)\n",
    "print(no_of_columns)"
   ]
  },
  {
   "cell_type": "markdown",
   "metadata": {},
   "source": [
    "This dataset has 25,553 rows and 5 columns"
   ]
  },
  {
   "cell_type": "code",
   "execution_count": 32,
   "metadata": {},
   "outputs": [
    {
     "name": "stdout",
     "output_type": "stream",
     "text": [
      "Index(['Unnamed:_0', 'Content_ID', 'User_ID', 'Type', 'Datetime'], dtype='object')\n"
     ]
    }
   ],
   "source": [
    "#Changing the dataheads to snake_case\n",
    "data.columns=data.columns.str.replace(\" \",\"_\")\n",
    "print(data.columns)"
   ]
  },
  {
   "cell_type": "code",
   "execution_count": 33,
   "metadata": {},
   "outputs": [
    {
     "data": {
      "text/plain": [
       "Unnamed:_0       0\n",
       "Content_ID       0\n",
       "User_ID       3019\n",
       "Type           980\n",
       "Datetime         0\n",
       "dtype: int64"
      ]
     },
     "execution_count": 33,
     "metadata": {},
     "output_type": "execute_result"
    }
   ],
   "source": [
    "#checking the missing values in each column\n",
    "missing_values_count=data.isnull().sum()\n",
    "missing_values_count[0:5]"
   ]
  },
  {
   "cell_type": "markdown",
   "metadata": {},
   "source": [
    "The user ID and the Type ID has missing values"
   ]
  },
  {
   "cell_type": "code",
   "execution_count": 34,
   "metadata": {},
   "outputs": [],
   "source": [
    "#Dropping the missing values in the two columns\n",
    "data.dropna(subset=[\"User_ID\",\"Type\"],inplace=True)"
   ]
  },
  {
   "cell_type": "code",
   "execution_count": 35,
   "metadata": {},
   "outputs": [],
   "source": [
    "from datetime import datetime\n",
    "column_name =\"Datetime\" \n",
    "# Specify the date format\n",
    "date_format = \"%d/%m/%Y %H:%M\"\n",
    "# Use the apply method to convert the entire column to datetime\n",
    "data[column_name] = data[column_name].apply(lambda x: datetime.strptime(x, date_format))\n"
   ]
  },
  {
   "cell_type": "code",
   "execution_count": 36,
   "metadata": {},
   "outputs": [],
   "source": [
    "#Downloading the cleaned dataset\n",
    "excel_file_path=r\"C:\\\\Users\\\\USER\\\\Downloads\\\\Reactions.xlsx\"\n",
    "data.to_excel(excel_file_path, index=False)"
   ]
  },
  {
   "cell_type": "code",
   "execution_count": 37,
   "metadata": {},
   "outputs": [],
   "source": [
    "#CLEANING DATASET 3\n",
    "data=pd.read_csv(\"C:\\\\Users\\\\USER\\\\OneDrive\\\\Documents\\\\Accenture Project\\\\ReactionTypes.csv\")"
   ]
  },
  {
   "cell_type": "code",
   "execution_count": 38,
   "metadata": {},
   "outputs": [
    {
     "data": {
      "text/html": [
       "<div>\n",
       "<style scoped>\n",
       "    .dataframe tbody tr th:only-of-type {\n",
       "        vertical-align: middle;\n",
       "    }\n",
       "\n",
       "    .dataframe tbody tr th {\n",
       "        vertical-align: top;\n",
       "    }\n",
       "\n",
       "    .dataframe thead th {\n",
       "        text-align: right;\n",
       "    }\n",
       "</style>\n",
       "<table border=\"1\" class=\"dataframe\">\n",
       "  <thead>\n",
       "    <tr style=\"text-align: right;\">\n",
       "      <th></th>\n",
       "      <th>Unnamed: 0</th>\n",
       "      <th>Type</th>\n",
       "      <th>Sentiment</th>\n",
       "      <th>Score</th>\n",
       "    </tr>\n",
       "  </thead>\n",
       "  <tbody>\n",
       "    <tr>\n",
       "      <th>0</th>\n",
       "      <td>0</td>\n",
       "      <td>heart</td>\n",
       "      <td>positive</td>\n",
       "      <td>60</td>\n",
       "    </tr>\n",
       "    <tr>\n",
       "      <th>1</th>\n",
       "      <td>1</td>\n",
       "      <td>want</td>\n",
       "      <td>positive</td>\n",
       "      <td>70</td>\n",
       "    </tr>\n",
       "    <tr>\n",
       "      <th>2</th>\n",
       "      <td>2</td>\n",
       "      <td>disgust</td>\n",
       "      <td>negative</td>\n",
       "      <td>0</td>\n",
       "    </tr>\n",
       "    <tr>\n",
       "      <th>3</th>\n",
       "      <td>3</td>\n",
       "      <td>hate</td>\n",
       "      <td>negative</td>\n",
       "      <td>5</td>\n",
       "    </tr>\n",
       "    <tr>\n",
       "      <th>4</th>\n",
       "      <td>4</td>\n",
       "      <td>interested</td>\n",
       "      <td>positive</td>\n",
       "      <td>30</td>\n",
       "    </tr>\n",
       "  </tbody>\n",
       "</table>\n",
       "</div>"
      ],
      "text/plain": [
       "   Unnamed: 0        Type Sentiment  Score\n",
       "0           0       heart  positive     60\n",
       "1           1        want  positive     70\n",
       "2           2     disgust  negative      0\n",
       "3           3        hate  negative      5\n",
       "4           4  interested  positive     30"
      ]
     },
     "execution_count": 38,
     "metadata": {},
     "output_type": "execute_result"
    }
   ],
   "source": [
    "data.head()"
   ]
  },
  {
   "cell_type": "code",
   "execution_count": 39,
   "metadata": {},
   "outputs": [
    {
     "name": "stdout",
     "output_type": "stream",
     "text": [
      "16\n",
      "4\n"
     ]
    }
   ],
   "source": [
    "#Checking for number of columns\n",
    "no_of_rows=data.shape[0]\n",
    "no_of_columns=data.shape[1]\n",
    "print(no_of_rows)\n",
    "print(no_of_columns)"
   ]
  },
  {
   "cell_type": "markdown",
   "metadata": {},
   "source": [
    "This dataset has 16 rows and 4 columns."
   ]
  },
  {
   "cell_type": "code",
   "execution_count": 40,
   "metadata": {},
   "outputs": [
    {
     "data": {
      "text/html": [
       "<div>\n",
       "<style scoped>\n",
       "    .dataframe tbody tr th:only-of-type {\n",
       "        vertical-align: middle;\n",
       "    }\n",
       "\n",
       "    .dataframe tbody tr th {\n",
       "        vertical-align: top;\n",
       "    }\n",
       "\n",
       "    .dataframe thead th {\n",
       "        text-align: right;\n",
       "    }\n",
       "</style>\n",
       "<table border=\"1\" class=\"dataframe\">\n",
       "  <thead>\n",
       "    <tr style=\"text-align: right;\">\n",
       "      <th></th>\n",
       "      <th>Unnamed: 0</th>\n",
       "      <th>Score</th>\n",
       "    </tr>\n",
       "  </thead>\n",
       "  <tbody>\n",
       "    <tr>\n",
       "      <th>count</th>\n",
       "      <td>16.000000</td>\n",
       "      <td>16.000000</td>\n",
       "    </tr>\n",
       "    <tr>\n",
       "      <th>mean</th>\n",
       "      <td>7.500000</td>\n",
       "      <td>39.625000</td>\n",
       "    </tr>\n",
       "    <tr>\n",
       "      <th>std</th>\n",
       "      <td>4.760952</td>\n",
       "      <td>26.901983</td>\n",
       "    </tr>\n",
       "    <tr>\n",
       "      <th>min</th>\n",
       "      <td>0.000000</td>\n",
       "      <td>0.000000</td>\n",
       "    </tr>\n",
       "    <tr>\n",
       "      <th>25%</th>\n",
       "      <td>3.750000</td>\n",
       "      <td>14.250000</td>\n",
       "    </tr>\n",
       "    <tr>\n",
       "      <th>50%</th>\n",
       "      <td>7.500000</td>\n",
       "      <td>40.000000</td>\n",
       "    </tr>\n",
       "    <tr>\n",
       "      <th>75%</th>\n",
       "      <td>11.250000</td>\n",
       "      <td>66.250000</td>\n",
       "    </tr>\n",
       "    <tr>\n",
       "      <th>max</th>\n",
       "      <td>15.000000</td>\n",
       "      <td>75.000000</td>\n",
       "    </tr>\n",
       "  </tbody>\n",
       "</table>\n",
       "</div>"
      ],
      "text/plain": [
       "       Unnamed: 0      Score\n",
       "count   16.000000  16.000000\n",
       "mean     7.500000  39.625000\n",
       "std      4.760952  26.901983\n",
       "min      0.000000   0.000000\n",
       "25%      3.750000  14.250000\n",
       "50%      7.500000  40.000000\n",
       "75%     11.250000  66.250000\n",
       "max     15.000000  75.000000"
      ]
     },
     "execution_count": 40,
     "metadata": {},
     "output_type": "execute_result"
    }
   ],
   "source": [
    "data.describe()"
   ]
  },
  {
   "cell_type": "code",
   "execution_count": 41,
   "metadata": {},
   "outputs": [
    {
     "data": {
      "text/plain": [
       "Unnamed: 0     int64\n",
       "Type          object\n",
       "Sentiment     object\n",
       "Score          int64\n",
       "dtype: object"
      ]
     },
     "execution_count": 41,
     "metadata": {},
     "output_type": "execute_result"
    }
   ],
   "source": [
    "#checking the datatypes\n",
    "data.dtypes"
   ]
  },
  {
   "cell_type": "code",
   "execution_count": 42,
   "metadata": {},
   "outputs": [
    {
     "name": "stdout",
     "output_type": "stream",
     "text": [
      "Index(['Unnamed:_0', 'Type', 'Sentiment', 'Score'], dtype='object')\n"
     ]
    }
   ],
   "source": [
    "#Changing the dataheads to snake_case\n",
    "data.columns=data.columns.str.replace(\" \",\"_\")\n",
    "print(data.columns)"
   ]
  },
  {
   "cell_type": "code",
   "execution_count": 44,
   "metadata": {},
   "outputs": [],
   "source": [
    "excel_file_path=r\"C:\\\\Users\\\\USER\\\\Downloads\\\\Reaction Types.xlsx\"\n",
    "data.to_excel(excel_file_path, index=False)"
   ]
  },
  {
   "cell_type": "code",
   "execution_count": 36,
   "metadata": {},
   "outputs": [
    {
     "name": "stdout",
     "output_type": "stream",
     "text": [
      "Index(['Unnamed: 0_x', 'Content ID', 'User ID_x', 'Type_x', 'Datetime',\n",
      "       'Unnamed: 0_y', 'User ID_y', 'Type_y', 'Category', 'URL'],\n",
      "      dtype='object')\n",
      "       Unnamed: 0_x                            Content ID  \\\n",
      "0                 1  97522e57-d9ab-4bd6-97bf-c24d952602d2   \n",
      "1                 4  97522e57-d9ab-4bd6-97bf-c24d952602d2   \n",
      "2                35  97522e57-d9ab-4bd6-97bf-c24d952602d2   \n",
      "3                52  9f737e0a-3cdd-4d29-9d24-753f4e3be810   \n",
      "4                88  230c4e4d-70c3-461d-b42c-ec09396efb3f   \n",
      "...             ...                                   ...   \n",
      "24568         25489  435007a5-6261-4d8b-b0a4-55fdc189754b   \n",
      "24569         25491  435007a5-6261-4d8b-b0a4-55fdc189754b   \n",
      "24570         25512  4e4c9690-c013-4ee7-9e66-943d8cbd27b7   \n",
      "24571         25524  4e4c9690-c013-4ee7-9e66-943d8cbd27b7   \n",
      "24572         25531  4e4c9690-c013-4ee7-9e66-943d8cbd27b7   \n",
      "\n",
      "                                  User ID_x   Type_x             Datetime  \\\n",
      "0      5d454588-283d-459d-915d-c48a2cb4c27f  disgust  2020-11-07 09:43:50   \n",
      "1      34e8add9-0206-47fd-a501-037b994650a2  disgust  2021-01-06 19:13:01   \n",
      "2      13c06e7e-833d-47eb-a790-5e09ccfd8d2c  disgust  2021-04-09 02:46:20   \n",
      "3      8b49caad-bcc5-43de-bf40-34a66ff8805c  disgust  2021-03-28 21:15:26   \n",
      "4      ef147ea5-9696-44d5-b6c2-a43f62fd8ce2  disgust  2020-08-04 05:40:33   \n",
      "...                                     ...      ...                  ...   \n",
      "24568  d51a3403-8bab-4d88-af4f-a429c6d8c168    adore  2020-10-04 22:26:33   \n",
      "24569  3663e3e6-3d5c-4ed9-a6af-1e680ec5f34b    adore  2020-09-18 10:50:50   \n",
      "24570  89572273-761e-46f3-8b99-1689d98aac90    adore  2020-10-31 03:58:44   \n",
      "24571  7bf3ce80-784e-42a0-b06a-dbbd1e31a9b7    adore  2020-06-25 15:12:29   \n",
      "24572  dcc6000c-ba92-472c-8bc1-9e9ca30b475b    adore  2020-12-17 16:32:57   \n",
      "\n",
      "       Unnamed: 0_y                             User ID_y Type_y  \\\n",
      "0                 0  8d3cd87d-8a31-4935-9a4f-b319bfe05f31  photo   \n",
      "1                 0  8d3cd87d-8a31-4935-9a4f-b319bfe05f31  photo   \n",
      "2                 0  8d3cd87d-8a31-4935-9a4f-b319bfe05f31  photo   \n",
      "3                 1  beb1f34e-7870-46d6-9fc7-2e12eb83ce43  photo   \n",
      "4                 2  a5c65404-5894-4b87-82f2-d787cbee86b4  photo   \n",
      "...             ...                                   ...    ...   \n",
      "24568           997  35d6a1f3-e358-4d4b-8074-05f3b7f35c2a  audio   \n",
      "24569           997  35d6a1f3-e358-4d4b-8074-05f3b7f35c2a  audio   \n",
      "24570           998  b9bcd994-f000-4f6b-87fc-caae08acfaa1    GIF   \n",
      "24571           998  b9bcd994-f000-4f6b-87fc-caae08acfaa1    GIF   \n",
      "24572           998  b9bcd994-f000-4f6b-87fc-caae08acfaa1    GIF   \n",
      "\n",
      "             Category                                                URL  \\\n",
      "0            Studying  https://socialbuzz.cdn.com/content/storage/975...   \n",
      "1            Studying  https://socialbuzz.cdn.com/content/storage/975...   \n",
      "2            Studying  https://socialbuzz.cdn.com/content/storage/975...   \n",
      "3      healthy eating  https://socialbuzz.cdn.com/content/storage/9f7...   \n",
      "4      healthy eating  https://socialbuzz.cdn.com/content/storage/230...   \n",
      "...               ...                                                ...   \n",
      "24568        veganism  https://socialbuzz.cdn.com/content/storage/435...   \n",
      "24569        veganism  https://socialbuzz.cdn.com/content/storage/435...   \n",
      "24570         culture  https://socialbuzz.cdn.com/content/storage/4e4...   \n",
      "24571         culture  https://socialbuzz.cdn.com/content/storage/4e4...   \n",
      "24572         culture  https://socialbuzz.cdn.com/content/storage/4e4...   \n",
      "\n",
      "       Unnamed: 0     Type Sentiment  Score  \n",
      "0               2  disgust  negative      0  \n",
      "1               2  disgust  negative      0  \n",
      "2               2  disgust  negative      0  \n",
      "3               2  disgust  negative      0  \n",
      "4               2  disgust  negative      0  \n",
      "...           ...      ...       ...    ...  \n",
      "24568           9    adore  positive     72  \n",
      "24569           9    adore  positive     72  \n",
      "24570           9    adore  positive     72  \n",
      "24571           9    adore  positive     72  \n",
      "24572           9    adore  positive     72  \n",
      "\n",
      "[24573 rows x 14 columns]\n"
     ]
    }
   ],
   "source": [
    "#DATA MODELLING\n",
    "#LOADING THE CLEANED DATASETS AS NEW DATAFRAMES\n",
    "import pandas as pd\n",
    "import numpy as numpy\n",
    "Content_data=pd.read_csv(\"Content.csv\")\n",
    "Reaction_Types_data=pd.read_csv(\"ReactionTypes.csv\")\n",
    "Reaction_data=pd.read_csv(\"Reactions.csv\")\n",
    "\n",
    "\n",
    "#merging the  three datasets using the MERGE() FUNCTION \n",
    "#based on the common column,that is \"content_id\"\n",
    "#merged_data=Reaction_data.merge(Content_data, on=\"Content_ID\", how=\"inner\"copy=\n",
    "#step 3: Join reaction with content using Content ID as the common key\n",
    "merged_data = pd.merge(Reaction_data, Content_data, left_on=\"Content ID\", right_on=\"Content ID\", how=\"inner\")\n",
    " \n",
    "print(merged_data.columns)\n",
    "#print(\"Reaction Types Data Columns:\", Reaction_Types_data.columns)\n",
    "#Step 3: Join the result from step 2 with reaction_type_data using the type column\n",
    "final_data = pd.merge(merged_data, Reaction_Types_data, left_on= \"Type_x\",right_on=\"Type\",how='inner')\n",
    "print(final_data)"
   ]
  },
  {
   "cell_type": "code",
   "execution_count": 37,
   "metadata": {},
   "outputs": [
    {
     "data": {
      "text/html": [
       "<div>\n",
       "<style scoped>\n",
       "    .dataframe tbody tr th:only-of-type {\n",
       "        vertical-align: middle;\n",
       "    }\n",
       "\n",
       "    .dataframe tbody tr th {\n",
       "        vertical-align: top;\n",
       "    }\n",
       "\n",
       "    .dataframe thead th {\n",
       "        text-align: right;\n",
       "    }\n",
       "</style>\n",
       "<table border=\"1\" class=\"dataframe\">\n",
       "  <thead>\n",
       "    <tr style=\"text-align: right;\">\n",
       "      <th></th>\n",
       "      <th>Unnamed: 0_x</th>\n",
       "      <th>Content ID</th>\n",
       "      <th>User ID_x</th>\n",
       "      <th>Type_x</th>\n",
       "      <th>Datetime</th>\n",
       "      <th>Unnamed: 0_y</th>\n",
       "      <th>User ID_y</th>\n",
       "      <th>Type_y</th>\n",
       "      <th>Category</th>\n",
       "      <th>URL</th>\n",
       "      <th>Unnamed: 0</th>\n",
       "      <th>Type</th>\n",
       "      <th>Sentiment</th>\n",
       "      <th>Score</th>\n",
       "    </tr>\n",
       "  </thead>\n",
       "  <tbody>\n",
       "    <tr>\n",
       "      <th>0</th>\n",
       "      <td>1</td>\n",
       "      <td>97522e57-d9ab-4bd6-97bf-c24d952602d2</td>\n",
       "      <td>5d454588-283d-459d-915d-c48a2cb4c27f</td>\n",
       "      <td>disgust</td>\n",
       "      <td>2020-11-07 09:43:50</td>\n",
       "      <td>0</td>\n",
       "      <td>8d3cd87d-8a31-4935-9a4f-b319bfe05f31</td>\n",
       "      <td>photo</td>\n",
       "      <td>Studying</td>\n",
       "      <td>https://socialbuzz.cdn.com/content/storage/975...</td>\n",
       "      <td>2</td>\n",
       "      <td>disgust</td>\n",
       "      <td>negative</td>\n",
       "      <td>0</td>\n",
       "    </tr>\n",
       "    <tr>\n",
       "      <th>1</th>\n",
       "      <td>4</td>\n",
       "      <td>97522e57-d9ab-4bd6-97bf-c24d952602d2</td>\n",
       "      <td>34e8add9-0206-47fd-a501-037b994650a2</td>\n",
       "      <td>disgust</td>\n",
       "      <td>2021-01-06 19:13:01</td>\n",
       "      <td>0</td>\n",
       "      <td>8d3cd87d-8a31-4935-9a4f-b319bfe05f31</td>\n",
       "      <td>photo</td>\n",
       "      <td>Studying</td>\n",
       "      <td>https://socialbuzz.cdn.com/content/storage/975...</td>\n",
       "      <td>2</td>\n",
       "      <td>disgust</td>\n",
       "      <td>negative</td>\n",
       "      <td>0</td>\n",
       "    </tr>\n",
       "    <tr>\n",
       "      <th>2</th>\n",
       "      <td>35</td>\n",
       "      <td>97522e57-d9ab-4bd6-97bf-c24d952602d2</td>\n",
       "      <td>13c06e7e-833d-47eb-a790-5e09ccfd8d2c</td>\n",
       "      <td>disgust</td>\n",
       "      <td>2021-04-09 02:46:20</td>\n",
       "      <td>0</td>\n",
       "      <td>8d3cd87d-8a31-4935-9a4f-b319bfe05f31</td>\n",
       "      <td>photo</td>\n",
       "      <td>Studying</td>\n",
       "      <td>https://socialbuzz.cdn.com/content/storage/975...</td>\n",
       "      <td>2</td>\n",
       "      <td>disgust</td>\n",
       "      <td>negative</td>\n",
       "      <td>0</td>\n",
       "    </tr>\n",
       "    <tr>\n",
       "      <th>3</th>\n",
       "      <td>52</td>\n",
       "      <td>9f737e0a-3cdd-4d29-9d24-753f4e3be810</td>\n",
       "      <td>8b49caad-bcc5-43de-bf40-34a66ff8805c</td>\n",
       "      <td>disgust</td>\n",
       "      <td>2021-03-28 21:15:26</td>\n",
       "      <td>1</td>\n",
       "      <td>beb1f34e-7870-46d6-9fc7-2e12eb83ce43</td>\n",
       "      <td>photo</td>\n",
       "      <td>healthy eating</td>\n",
       "      <td>https://socialbuzz.cdn.com/content/storage/9f7...</td>\n",
       "      <td>2</td>\n",
       "      <td>disgust</td>\n",
       "      <td>negative</td>\n",
       "      <td>0</td>\n",
       "    </tr>\n",
       "    <tr>\n",
       "      <th>4</th>\n",
       "      <td>88</td>\n",
       "      <td>230c4e4d-70c3-461d-b42c-ec09396efb3f</td>\n",
       "      <td>ef147ea5-9696-44d5-b6c2-a43f62fd8ce2</td>\n",
       "      <td>disgust</td>\n",
       "      <td>2020-08-04 05:40:33</td>\n",
       "      <td>2</td>\n",
       "      <td>a5c65404-5894-4b87-82f2-d787cbee86b4</td>\n",
       "      <td>photo</td>\n",
       "      <td>healthy eating</td>\n",
       "      <td>https://socialbuzz.cdn.com/content/storage/230...</td>\n",
       "      <td>2</td>\n",
       "      <td>disgust</td>\n",
       "      <td>negative</td>\n",
       "      <td>0</td>\n",
       "    </tr>\n",
       "    <tr>\n",
       "      <th>...</th>\n",
       "      <td>...</td>\n",
       "      <td>...</td>\n",
       "      <td>...</td>\n",
       "      <td>...</td>\n",
       "      <td>...</td>\n",
       "      <td>...</td>\n",
       "      <td>...</td>\n",
       "      <td>...</td>\n",
       "      <td>...</td>\n",
       "      <td>...</td>\n",
       "      <td>...</td>\n",
       "      <td>...</td>\n",
       "      <td>...</td>\n",
       "      <td>...</td>\n",
       "    </tr>\n",
       "    <tr>\n",
       "      <th>24568</th>\n",
       "      <td>25489</td>\n",
       "      <td>435007a5-6261-4d8b-b0a4-55fdc189754b</td>\n",
       "      <td>d51a3403-8bab-4d88-af4f-a429c6d8c168</td>\n",
       "      <td>adore</td>\n",
       "      <td>2020-10-04 22:26:33</td>\n",
       "      <td>997</td>\n",
       "      <td>35d6a1f3-e358-4d4b-8074-05f3b7f35c2a</td>\n",
       "      <td>audio</td>\n",
       "      <td>veganism</td>\n",
       "      <td>https://socialbuzz.cdn.com/content/storage/435...</td>\n",
       "      <td>9</td>\n",
       "      <td>adore</td>\n",
       "      <td>positive</td>\n",
       "      <td>72</td>\n",
       "    </tr>\n",
       "    <tr>\n",
       "      <th>24569</th>\n",
       "      <td>25491</td>\n",
       "      <td>435007a5-6261-4d8b-b0a4-55fdc189754b</td>\n",
       "      <td>3663e3e6-3d5c-4ed9-a6af-1e680ec5f34b</td>\n",
       "      <td>adore</td>\n",
       "      <td>2020-09-18 10:50:50</td>\n",
       "      <td>997</td>\n",
       "      <td>35d6a1f3-e358-4d4b-8074-05f3b7f35c2a</td>\n",
       "      <td>audio</td>\n",
       "      <td>veganism</td>\n",
       "      <td>https://socialbuzz.cdn.com/content/storage/435...</td>\n",
       "      <td>9</td>\n",
       "      <td>adore</td>\n",
       "      <td>positive</td>\n",
       "      <td>72</td>\n",
       "    </tr>\n",
       "    <tr>\n",
       "      <th>24570</th>\n",
       "      <td>25512</td>\n",
       "      <td>4e4c9690-c013-4ee7-9e66-943d8cbd27b7</td>\n",
       "      <td>89572273-761e-46f3-8b99-1689d98aac90</td>\n",
       "      <td>adore</td>\n",
       "      <td>2020-10-31 03:58:44</td>\n",
       "      <td>998</td>\n",
       "      <td>b9bcd994-f000-4f6b-87fc-caae08acfaa1</td>\n",
       "      <td>GIF</td>\n",
       "      <td>culture</td>\n",
       "      <td>https://socialbuzz.cdn.com/content/storage/4e4...</td>\n",
       "      <td>9</td>\n",
       "      <td>adore</td>\n",
       "      <td>positive</td>\n",
       "      <td>72</td>\n",
       "    </tr>\n",
       "    <tr>\n",
       "      <th>24571</th>\n",
       "      <td>25524</td>\n",
       "      <td>4e4c9690-c013-4ee7-9e66-943d8cbd27b7</td>\n",
       "      <td>7bf3ce80-784e-42a0-b06a-dbbd1e31a9b7</td>\n",
       "      <td>adore</td>\n",
       "      <td>2020-06-25 15:12:29</td>\n",
       "      <td>998</td>\n",
       "      <td>b9bcd994-f000-4f6b-87fc-caae08acfaa1</td>\n",
       "      <td>GIF</td>\n",
       "      <td>culture</td>\n",
       "      <td>https://socialbuzz.cdn.com/content/storage/4e4...</td>\n",
       "      <td>9</td>\n",
       "      <td>adore</td>\n",
       "      <td>positive</td>\n",
       "      <td>72</td>\n",
       "    </tr>\n",
       "    <tr>\n",
       "      <th>24572</th>\n",
       "      <td>25531</td>\n",
       "      <td>4e4c9690-c013-4ee7-9e66-943d8cbd27b7</td>\n",
       "      <td>dcc6000c-ba92-472c-8bc1-9e9ca30b475b</td>\n",
       "      <td>adore</td>\n",
       "      <td>2020-12-17 16:32:57</td>\n",
       "      <td>998</td>\n",
       "      <td>b9bcd994-f000-4f6b-87fc-caae08acfaa1</td>\n",
       "      <td>GIF</td>\n",
       "      <td>culture</td>\n",
       "      <td>https://socialbuzz.cdn.com/content/storage/4e4...</td>\n",
       "      <td>9</td>\n",
       "      <td>adore</td>\n",
       "      <td>positive</td>\n",
       "      <td>72</td>\n",
       "    </tr>\n",
       "  </tbody>\n",
       "</table>\n",
       "<p>24573 rows × 14 columns</p>\n",
       "</div>"
      ],
      "text/plain": [
       "       Unnamed: 0_x                            Content ID  \\\n",
       "0                 1  97522e57-d9ab-4bd6-97bf-c24d952602d2   \n",
       "1                 4  97522e57-d9ab-4bd6-97bf-c24d952602d2   \n",
       "2                35  97522e57-d9ab-4bd6-97bf-c24d952602d2   \n",
       "3                52  9f737e0a-3cdd-4d29-9d24-753f4e3be810   \n",
       "4                88  230c4e4d-70c3-461d-b42c-ec09396efb3f   \n",
       "...             ...                                   ...   \n",
       "24568         25489  435007a5-6261-4d8b-b0a4-55fdc189754b   \n",
       "24569         25491  435007a5-6261-4d8b-b0a4-55fdc189754b   \n",
       "24570         25512  4e4c9690-c013-4ee7-9e66-943d8cbd27b7   \n",
       "24571         25524  4e4c9690-c013-4ee7-9e66-943d8cbd27b7   \n",
       "24572         25531  4e4c9690-c013-4ee7-9e66-943d8cbd27b7   \n",
       "\n",
       "                                  User ID_x   Type_x             Datetime  \\\n",
       "0      5d454588-283d-459d-915d-c48a2cb4c27f  disgust  2020-11-07 09:43:50   \n",
       "1      34e8add9-0206-47fd-a501-037b994650a2  disgust  2021-01-06 19:13:01   \n",
       "2      13c06e7e-833d-47eb-a790-5e09ccfd8d2c  disgust  2021-04-09 02:46:20   \n",
       "3      8b49caad-bcc5-43de-bf40-34a66ff8805c  disgust  2021-03-28 21:15:26   \n",
       "4      ef147ea5-9696-44d5-b6c2-a43f62fd8ce2  disgust  2020-08-04 05:40:33   \n",
       "...                                     ...      ...                  ...   \n",
       "24568  d51a3403-8bab-4d88-af4f-a429c6d8c168    adore  2020-10-04 22:26:33   \n",
       "24569  3663e3e6-3d5c-4ed9-a6af-1e680ec5f34b    adore  2020-09-18 10:50:50   \n",
       "24570  89572273-761e-46f3-8b99-1689d98aac90    adore  2020-10-31 03:58:44   \n",
       "24571  7bf3ce80-784e-42a0-b06a-dbbd1e31a9b7    adore  2020-06-25 15:12:29   \n",
       "24572  dcc6000c-ba92-472c-8bc1-9e9ca30b475b    adore  2020-12-17 16:32:57   \n",
       "\n",
       "       Unnamed: 0_y                             User ID_y Type_y  \\\n",
       "0                 0  8d3cd87d-8a31-4935-9a4f-b319bfe05f31  photo   \n",
       "1                 0  8d3cd87d-8a31-4935-9a4f-b319bfe05f31  photo   \n",
       "2                 0  8d3cd87d-8a31-4935-9a4f-b319bfe05f31  photo   \n",
       "3                 1  beb1f34e-7870-46d6-9fc7-2e12eb83ce43  photo   \n",
       "4                 2  a5c65404-5894-4b87-82f2-d787cbee86b4  photo   \n",
       "...             ...                                   ...    ...   \n",
       "24568           997  35d6a1f3-e358-4d4b-8074-05f3b7f35c2a  audio   \n",
       "24569           997  35d6a1f3-e358-4d4b-8074-05f3b7f35c2a  audio   \n",
       "24570           998  b9bcd994-f000-4f6b-87fc-caae08acfaa1    GIF   \n",
       "24571           998  b9bcd994-f000-4f6b-87fc-caae08acfaa1    GIF   \n",
       "24572           998  b9bcd994-f000-4f6b-87fc-caae08acfaa1    GIF   \n",
       "\n",
       "             Category                                                URL  \\\n",
       "0            Studying  https://socialbuzz.cdn.com/content/storage/975...   \n",
       "1            Studying  https://socialbuzz.cdn.com/content/storage/975...   \n",
       "2            Studying  https://socialbuzz.cdn.com/content/storage/975...   \n",
       "3      healthy eating  https://socialbuzz.cdn.com/content/storage/9f7...   \n",
       "4      healthy eating  https://socialbuzz.cdn.com/content/storage/230...   \n",
       "...               ...                                                ...   \n",
       "24568        veganism  https://socialbuzz.cdn.com/content/storage/435...   \n",
       "24569        veganism  https://socialbuzz.cdn.com/content/storage/435...   \n",
       "24570         culture  https://socialbuzz.cdn.com/content/storage/4e4...   \n",
       "24571         culture  https://socialbuzz.cdn.com/content/storage/4e4...   \n",
       "24572         culture  https://socialbuzz.cdn.com/content/storage/4e4...   \n",
       "\n",
       "       Unnamed: 0     Type Sentiment  Score  \n",
       "0               2  disgust  negative      0  \n",
       "1               2  disgust  negative      0  \n",
       "2               2  disgust  negative      0  \n",
       "3               2  disgust  negative      0  \n",
       "4               2  disgust  negative      0  \n",
       "...           ...      ...       ...    ...  \n",
       "24568           9    adore  positive     72  \n",
       "24569           9    adore  positive     72  \n",
       "24570           9    adore  positive     72  \n",
       "24571           9    adore  positive     72  \n",
       "24572           9    adore  positive     72  \n",
       "\n",
       "[24573 rows x 14 columns]"
      ]
     },
     "execution_count": 37,
     "metadata": {},
     "output_type": "execute_result"
    }
   ],
   "source": [
    "final_data"
   ]
  },
  {
   "cell_type": "code",
   "execution_count": 45,
   "metadata": {},
   "outputs": [],
   "source": [
    "#Using excel write to create two sheets in one spreadsheet\n",
    "with pd.ExcelWriter(\"Final Data.xlsx\") as excel:\n",
    "    \n",
    "    final_data.to_excel(excel,index=False,sheet_name=\"final_data\")\n",
    "    final_data[\"Category\"].value_counts()[:5].reset_index().to_excel(excel,index=False,sheet_name=\"top_5_categories\")"
   ]
  },
  {
   "cell_type": "code",
   "execution_count": 49,
   "metadata": {},
   "outputs": [],
   "source": [
    "#importing the new merged dataset\n",
    "data=pd.read_csv(\"C:\\\\Users\\\\USER\\\\Downloads\\\\Final Data.csv\")"
   ]
  },
  {
   "cell_type": "code",
   "execution_count": 50,
   "metadata": {},
   "outputs": [
    {
     "name": "stdout",
     "output_type": "stream",
     "text": [
      "Number of rows: 24573\n",
      "Number of columns: 14\n"
     ]
    }
   ],
   "source": [
    "#Checking the number of columns and rows in this dataset\n",
    "num_rows, num_columns = data.shape\n",
    "print(f\"Number of rows: {num_rows}\")\n",
    "print(f\"Number of columns: {num_columns}\")\n"
   ]
  },
  {
   "cell_type": "markdown",
   "metadata": {},
   "source": [
    "This dataset has 24573 rows and 14 columns."
   ]
  },
  {
   "cell_type": "code",
   "execution_count": 51,
   "metadata": {},
   "outputs": [
    {
     "data": {
      "text/plain": [
       "Unnamed: 0_x       0\n",
       "Content ID         0\n",
       "User ID_x       2039\n",
       "Type_x             0\n",
       "Datetime           0\n",
       "Unnamed: 0_y       0\n",
       "User ID_y          0\n",
       "Type_y             0\n",
       "Category           0\n",
       "URL             4517\n",
       "Unnamed: 0         0\n",
       "Type               0\n",
       "Sentiment          0\n",
       "Score              0\n",
       "dtype: int64"
      ]
     },
     "execution_count": 51,
     "metadata": {},
     "output_type": "execute_result"
    }
   ],
   "source": [
    "#checking the missing values in each column in the new merged dataset \n",
    "missing_values_count=data.isnull().sum()\n",
    "missing_values_count[0:14]"
   ]
  },
  {
   "cell_type": "markdown",
   "metadata": {},
   "source": [
    "Two columns have missing values"
   ]
  },
  {
   "cell_type": "code",
   "execution_count": 52,
   "metadata": {},
   "outputs": [],
   "source": [
    "data.dropna(subset=[\"User ID_x\",\"URL\"],inplace=True)"
   ]
  },
  {
   "cell_type": "code",
   "execution_count": 53,
   "metadata": {},
   "outputs": [
    {
     "name": "stdout",
     "output_type": "stream",
     "text": [
      "Top 5 Categories:\n",
      "Category\n",
      "travel            1368\n",
      "science           1351\n",
      "animals           1323\n",
      "healthy eating    1303\n",
      "cooking           1277\n",
      "Name: count, dtype: int64\n"
     ]
    }
   ],
   "source": [
    "#Checking the top 5 categories\n",
    "category_counts = data[\"Category\"].value_counts()\n",
    "\n",
    "# Get the top five categories\n",
    "top_five_categories = category_counts.head(5)\n",
    "print(\"Top 5 Categories:\")\n",
    "print(top_five_categories)"
   ]
  },
  {
   "cell_type": "code",
   "execution_count": 55,
   "metadata": {},
   "outputs": [
    {
     "data": {
      "image/png": "[encoded data removed]",
      "text/plain": [
       "<Figure size 1000x600 with 1 Axes>"
      ]
     },
     "metadata": {},
     "output_type": "display_data"
    }
   ],
   "source": [
    "#VISUALIZING THE TOP 5 CATEGORIES\n",
    "#USING BAR CHARTS\n",
    "import matplotlib.pyplot as plt\n",
    "\n",
    "# Data for the top 5 categories (replace these with your data)\n",
    "categories = [\"travel\", \"science\", \"animals\", \"healthy eating \", \"cooking\"]\n",
    "values = [100, 80, 70, 60, 50]\n",
    "\n",
    "actual_totals = [1368,1351,1323,1303,1277]  \n",
    "\n",
    "plt.figure(figsize=(10, 6))\n",
    "bars = plt.bar(categories, values, color=\"blue\")\n",
    "plt.xlabel(\"Categories\")\n",
    "plt.ylabel(\"Count\")\n",
    "plt.title(\"Top 5 Categories in the Dataset\")\n",
    "\n",
    "# Rotating the  category labels for readability\n",
    "plt.xticks(rotation=45)\n",
    "\n",
    "# Adding  actual total number labels above each bar\n",
    "for bar, actual_total in zip(bars,actual_totals):\n",
    "    plt.text(bar.get_x() + bar.get_width() / 2, bar.get_height() + 5, f\"Actual: {actual_total}\", ha=\"center\")\n",
    "\n",
    "plt.tight_layout()\n",
    "\n",
    "# Show the chart\n",
    "plt.show()\n"
   ]
  },
  {
   "cell_type": "markdown",
   "metadata": {},
   "source": [
    "From this bar chart, the top 5 most popular categories of posts were animals, science, healthy eating, technology and food in descending order.\n",
    "Travel had an aggregate popularity score of around 1368. \n",
    "It is very interesting to see both cooking and healthy eating within the top 5, it really shows that both are highly engaging content category.\n",
    "Healthy eating ranks slightly higher than cooking, so perhaps your user base may be skewed\n",
    "towards healthy eaters and health-conscious people.\n",
    "Finally, its also interesting to see science and ttravel too. This may suggest \n",
    "that people enjoy consuming factual content ."
   ]
  },
  {
   "cell_type": "code",
   "execution_count": 56,
   "metadata": {},
   "outputs": [
    {
     "name": "stdout",
     "output_type": "stream",
     "text": [
      "Number of unique categories: 17\n"
     ]
    }
   ],
   "source": [
    "# Checking how many unique categories are there\n",
    "unique_categories_count = data[\"Category\"].nunique()\n",
    "print(\"Number of unique categories:\", unique_categories_count)\n"
   ]
  },
  {
   "cell_type": "code",
   "execution_count": 63,
   "metadata": {},
   "outputs": [
    {
     "name": "stdout",
     "output_type": "stream",
     "text": [
      "Total reactions for the 'travel' category: disgustdisgustdisgustdisgustdisgustdisgustdisgustdisgustdisgustdisgustdisgustdisgustdisgustdisgustdisgustdisgustdisgustdisgustdisgustdisgustdisgustdisgustdisgustdisgustdisgustdisgustdisgustdisgustdisgustdisgustdisgustdisgustdisgustdisgustdisgustdisgustdisgustdisgustdisgustdisgustdisgustdisgustdisgustdisgustdisgustdisgustdisgustdisgustdisgustdisgustdisgustdisgustdisgustdisgustdisgustdisgustdisgustdisgustdisgustdisgustdisgustdisgustdisgustdisgustdisgustdisgustdisgustdisgustdisgustdisgustdisgustdisgustdisgustdisgustdisgustdisgustdisgustdisgustdisgustdisgustdisgustdisgustdisgustdisgustdisgustdisgustdisgustdisgustdisgustdisgustdisgustdisgustdisgustdisgustdisgustdisgustdisgustdislikedislikedislikedislikedislikedislikedislikedislikedislikedislikedislikedislikedislikedislikedislikedislikedislikedislikedislikedislikedislikedislikedislikedislikedislikedislikedislikedislikedislikedislikedislikedislikedislikedislikedislikedislikedislikedislikedislikedislikedislikedislikedislikedislikedislikedislikedislikedislikedislikedislikedislikedislikedislikedislikedislikedislikedislikedislikedislikedislikedislikedislikedislikedislikedislikedislikedislikedislikedislikedislikedislikedislikedislikedislikedislikedislikedislikedislikedislikedislikedislikedislikedislikedislikedislikedislikedislikedislikedislikedislikedislikedislikedislikedislikedislikedislikescaredscaredscaredscaredscaredscaredscaredscaredscaredscaredscaredscaredscaredscaredscaredscaredscaredscaredscaredscaredscaredscaredscaredscaredscaredscaredscaredscaredscaredscaredscaredscaredscaredscaredscaredscaredscaredscaredscaredscaredscaredscaredscaredscaredscaredscaredscaredscaredscaredscaredscaredscaredscaredscaredscaredscaredscaredscaredscaredscaredscaredscaredscaredscaredscaredscaredscaredscaredscaredscaredscaredscaredscaredscaredscaredscaredscaredscaredscaredscaredscaredscaredscaredscaredinterestedinterestedinterestedinterestedinterestedinterestedinterestedinterestedinterestedinterestedinterestedinterestedinterestedinterestedinterestedinterestedinterestedinterestedinterestedinterestedinterestedinterestedinterestedinterestedinterestedinterestedinterestedinterestedinterestedinterestedinterestedinterestedinterestedinterestedinterestedinterestedinterestedinterestedinterestedinterestedinterestedinterestedinterestedinterestedinterestedinterestedinterestedinterestedinterestedinterestedinterestedinterestedinterestedinterestedinterestedinterestedinterestedinterestedinterestedinterestedinterestedinterestedinterestedinterestedinterestedinterestedinterestedinterestedinterestedinterestedinterestedinterestedinterestedinterestedinterestedinterestedinterestedpeekingpeekingpeekingpeekingpeekingpeekingpeekingpeekingpeekingpeekingpeekingpeekingpeekingpeekingpeekingpeekingpeekingpeekingpeekingpeekingpeekingpeekingpeekingpeekingpeekingpeekingpeekingpeekingpeekingpeekingpeekingpeekingpeekingpeekingpeekingpeekingpeekingpeekingpeekingpeekingpeekingpeekingpeekingpeekingpeekingpeekingpeekingpeekingpeekingpeekingpeekingpeekingpeekingpeekingpeekingpeekingpeekingpeekingpeekingpeekingpeekingpeekingpeekingpeekingpeekingpeekingpeekingpeekingpeekingpeekingpeekingpeekingpeekingpeekingpeekingpeekingpeekingpeekingpeekingpeekingpeekingpeekingpeekingpeekingpeekingpeekingpeekingcherishcherishcherishcherishcherishcherishcherishcherishcherishcherishcherishcherishcherishcherishcherishcherishcherishcherishcherishcherishcherishcherishcherishcherishcherishcherishcherishcherishcherishcherishcherishcherishcherishcherishcherishcherishcherishcherishcherishcherishcherishcherishcherishcherishcherishcherishcherishcherishcherishcherishcherishcherishcherishcherishcherishcherishcherishcherishcherishcherishcherishcherishcherishcherishcherishcherishcherishcherishcherishcherishcherishcherishcherishcherishcherishcherishcherishcherishcherishcherishcherishcherishcherishcherishcherishhatehatehatehatehatehatehatehatehatehatehatehatehatehatehatehatehatehatehatehatehatehatehatehatehatehatehatehatehatehatehatehatehatehatehatehatehatehatehatehatehatehatehatehatehatehatehatehatehatehatehatehatehatehatehatehatehatehatehatehatehatehatehatehatehatehatehatehatehatehatehatehatehatehatehatehatehateloveloveloveloveloveloveloveloveloveloveloveloveloveloveloveloveloveloveloveloveloveloveloveloveloveloveloveloveloveloveloveloveloveloveloveloveloveloveloveloveloveloveloveloveloveloveloveloveloveloveloveloveloveloveloveloveloveloveloveloveloveloveloveloveloveloveloveloveloveloveloveloveloveloveloveloveloveloveloveloveloveindifferentindifferentindifferentindifferentindifferentindifferentindifferentindifferentindifferentindifferentindifferentindifferentindifferentindifferentindifferentindifferentindifferentindifferentindifferentindifferentindifferentindifferentindifferentindifferentindifferentindifferentindifferentindifferentindifferentindifferentindifferentindifferentindifferentindifferentindifferentindifferentindifferentindifferentindifferentindifferentindifferentindifferentindifferentindifferentindifferentindifferentindifferentindifferentindifferentindifferentindifferentindifferentindifferentindifferentindifferentindifferentindifferentindifferentindifferentindifferentindifferentindifferentindifferentindifferentindifferentindifferentindifferentindifferentindifferentindifferentindifferentindifferentindifferentindifferentindifferentindifferentindifferentindifferentsuper lovesuper lovesuper lovesuper lovesuper lovesuper lovesuper lovesuper lovesuper lovesuper lovesuper lovesuper lovesuper lovesuper lovesuper lovesuper lovesuper lovesuper lovesuper lovesuper lovesuper lovesuper lovesuper lovesuper lovesuper lovesuper lovesuper lovesuper lovesuper lovesuper lovesuper lovesuper lovesuper lovesuper lovesuper lovesuper lovesuper lovesuper lovesuper lovesuper lovesuper lovesuper lovesuper lovesuper lovesuper lovesuper lovesuper lovesuper lovesuper lovesuper lovesuper lovesuper lovesuper lovesuper lovesuper lovesuper lovesuper lovesuper lovesuper lovesuper lovesuper lovesuper lovesuper lovesuper lovesuper lovesuper lovesuper lovesuper lovesuper lovesuper lovesuper lovesuper lovesuper lovesuper lovesuper lovesuper lovesuper lovesuper loveintriguedintriguedintriguedintriguedintriguedintriguedintriguedintriguedintriguedintriguedintriguedintriguedintriguedintriguedintriguedintriguedintriguedintriguedintriguedintriguedintriguedintriguedintriguedintriguedintriguedintriguedintriguedintriguedintriguedintriguedintriguedintriguedintriguedintriguedintriguedintriguedintriguedintriguedintriguedintriguedintriguedintriguedintriguedintriguedintriguedintriguedintriguedintriguedintriguedintriguedintriguedintriguedintriguedintriguedintriguedintriguedintriguedintriguedintriguedintriguedintriguedintriguedintriguedintriguedintriguedintriguedintriguedintriguedintriguedintriguedintriguedintriguedintriguedintriguedintriguedintriguedintriguedintriguedintriguedintriguedintriguedintriguedintriguedintriguedintriguedintriguedworriedworriedworriedworriedworriedworriedworriedworriedworriedworriedworriedworriedworriedworriedworriedworriedworriedworriedworriedworriedworriedworriedworriedworriedworriedworriedworriedworriedworriedworriedworriedworriedworriedworriedworriedworriedworriedworriedworriedworriedworriedworriedworriedworriedworriedworriedworriedworriedworriedworriedworriedworriedworriedworriedworriedworriedworriedworriedworriedworriedworriedworriedworriedworriedworriedworriedworriedworriedworriedworriedworriedworriedworriedworriedworriedworriedworriedworriedworriedworriedworriedworriedworriedworriedworriedlikelikelikelikelikelikelikelikelikelikelikelikelikelikelikelikelikelikelikelikelikelikelikelikelikelikelikelikelikelikelikelikelikelikelikelikelikelikelikelikelikelikelikelikelikelikelikelikelikelikelikelikelikelikelikelikelikelikelikelikelikelikelikelikelikelikelikelikelikelikelikelikelikelikelikelikelikelikelikelikelikelikelikelikelikelikelikelikelikelikelikelikeheartheartheartheartheartheartheartheartheartheartheartheartheartheartheartheartheartheartheartheartheartheartheartheartheartheartheartheartheartheartheartheartheartheartheartheartheartheartheartheartheartheartheartheartheartheartheartheartheartheartheartheartheartheartheartheartheartheartheartheartheartheartheartheartheartheartheartheartheartheartheartheartheartheartheartheartheartheartheartheartheartheartheartheartheartheartwantwantwantwantwantwantwantwantwantwantwantwantwantwantwantwantwantwantwantwantwantwantwantwantwantwantwantwantwantwantwantwantwantwantwantwantwantwantwantwantwantwantwantwantwantwantwantwantwantwantwantwantwantwantwantwantwantwantwantwantwantwantwantwantwantwantwantwantwantwantwantwantwantwantwantwantwantwantwantwantwantwantwantwantwantwantwantwantwantwantwantwantwantwantadoreadoreadoreadoreadoreadoreadoreadoreadoreadoreadoreadoreadoreadoreadoreadoreadoreadoreadoreadoreadoreadoreadoreadoreadoreadoreadoreadoreadoreadoreadoreadoreadoreadoreadoreadoreadoreadoreadoreadoreadoreadoreadoreadoreadoreadoreadoreadoreadoreadoreadoreadoreadoreadoreadoreadoreadoreadoreadoreadoreadoreadoreadoreadoreadoreadoreadoreadoreadoreadoreadoreadoreadoreadoreadoreadoreadoreadoreadoreadoreadoreadoreadoreadoreadore\n"
     ]
    }
   ],
   "source": [
    "# Group the data by 'category' and calculate the sum of 'reactions' for each category\n",
    "travel_data = data[data[\"Category\"] == \"travel\"]\n",
    "\n",
    "# Calculate the total reactions for the 'travel' category\n",
    "total_reactions_travel = travel_data[\"Type\"].sum()\n",
    "print(f\"Total reactions for the 'travel' category: {total_reactions_travel}\")"
   ]
  },
  {
   "cell_type": "markdown",
   "metadata": {},
   "source": [
    "Most respondents seem to have hated the traveling."
   ]
  },
  {
   "cell_type": "code",
   "execution_count": 64,
   "metadata": {},
   "outputs": [
    {
     "name": "stdout",
     "output_type": "stream",
     "text": [
      "The month with the most posts is 8 with 1612 posts.\n"
     ]
    }
   ],
   "source": [
    "#Checking which  month with the most posts\n",
    "# Converting the Datetime column to datetime if it's not already in datetime format\n",
    "data[\"Datetime\"] = pd.to_datetime(data[\"Datetime\"])\n",
    "\n",
    "# Extracting the month from the \"Datetime\" column\n",
    "data['month'] = data[\"Datetime\"].dt.month\n",
    "\n",
    "# Count the number of posts for each month\n",
    "month_post_counts = data['month'].value_counts()\n",
    "\n",
    "# Find the month with the most posts\n",
    "most_posts_month = month_post_counts.idxmax()\n",
    "post_count = month_post_counts.max()\n",
    "\n",
    "print(f\"The month with the most posts is {most_posts_month} with {post_count} posts.\")\n"
   ]
  },
  {
   "cell_type": "markdown",
   "metadata": {},
   "source": [
    "From the findings above,the conlusion will be, the most common month for users to post was August and it had 1612 posts.\n"
   ]
  }
 ],
 "metadata": {
  "kernelspec": {
   "display_name": "Python 3",
   "language": "python",
   "name": "python3"
  },
  "language_info": {
   "codemirror_mode": {
    "name": "ipython",
    "version": 3
   },
   "file_extension": ".py",
   "mimetype": "text/x-python",
   "name": "python",
   "nbconvert_exporter": "python",
   "pygments_lexer": "ipython3",
   "version": "3.11.4"
  },
  "orig_nbformat": 4
 },
 "nbformat": 4,
 "nbformat_minor": 2
}
